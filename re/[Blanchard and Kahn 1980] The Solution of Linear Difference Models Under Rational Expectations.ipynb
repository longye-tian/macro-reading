{
 "cells": [
  {
   "cell_type": "markdown",
   "id": "1c0fb2e7-a277-4a8d-b64e-92a8f03be5e3",
   "metadata": {},
   "source": [
    "## The Solution of Linear Difference Models Under Rational Expectations\n",
    "\n",
    "by Olivier Jean Blanchard and Charles M. Kahn 1980\n",
    "\n",
    "-----------------------------------------\n",
    "**Summary**\n",
    "\n",
    "1. If the number of eigenvalues of $A$ outside the unit circle is equal to the number of non-predetermined variables, then there exists a unique solution.\n",
    "\n",
    "2. If the number of eigenvalues of $A$ outside the unit circle is greater than the number of non-predetermined variables, then there is no solution.\n",
    "\n",
    "3. If the number of eigenvalues of $A$ outside the unit circle is less the number of non-predetermined variables, then there are infinitely many solutions.\n",
    "\n",
    "**Key Definitions**\n",
    "\n",
    "**Definition (Predetermined variable)**\n",
    "\n",
    "A predetermined variable $X_{t+1}$ is a function only of variables in $\\Omega_t$, i.e., \n",
    "$$X_{t+1} = \\mathbb{E}_t X_{t+1}$$\n",
    "\n",
    "**Definition (Non-predetermined variable)**\n",
    "\n",
    "A non-predetermined variable $P_{t+1}$ can be a function of any variable in $\\Omega_{t+1}$,i.e.,\n",
    "$$\\forall\\omega_{t+1}\\in\\Omega_{t+1},\\,\\, \\omega_{t+1} = \\mathbb{E}_t\\omega_{t+1}\\implies P_{t+1} = \\mathbb{E}_tP_{t+1}$$\n"
   ]
  },
  {
   "cell_type": "markdown",
   "id": "de0ef2dd-5419-4579-a400-78dd3258f3ea",
   "metadata": {},
   "source": [
    "### The model"
   ]
  },
  {
   "cell_type": "markdown",
   "id": "def2ed1d-6a9e-40f8-bf58-f686b2f9b33c",
   "metadata": {},
   "source": [
    "The model is characterised by [$(1)$](#model), [$(2)$](#re), and [$(3)$](#nx)\n",
    "\n",
    "The **structural model equation**:\n",
    "<a id = 'model'></a>\n",
    "$$\n",
    "\\begin{bmatrix}\n",
    "\\mathbb{E}_tX_{t+1}\\\\\n",
    "\\mathbb{E}_tP_{t+1}\\\\\n",
    "\\end{bmatrix} = A\\begin{bmatrix} X_t \\\\\n",
    "P_t\\\\\n",
    "\\end{bmatrix} + \\gamma Z_t, \\,\\,X_{t=0} = X_0\\tag{1}\n",
    "$$\n",
    "\n",
    "The **Rational Expectation equation**:\n",
    "<a id = 're'></a>\n",
    "$$\n",
    "\\mathbb{E}_t P_{t+1} = \\mathbb{E}[P_{t+1}|\\Omega_t] \\tag{2}\n",
    "$$\n",
    "\n",
    "The **non-explosion condition** :\n",
    "<a id = 'nx'></a>\n",
    "$$\n",
    "\\forall t, \\,\\,\\exists \\overline Z_t\\in\\mathbb{R}^k, \\theta_t \\in\\mathbb{R}\n",
    "$$\n",
    "such that \n",
    "$$\n",
    "\\mathbb{E}_tZ_{t+i} \\in [-(1+i)^{\\theta_t}\\overline Z_t, (1+i)^{\\theta_t}\\overline Z_t] \\,\\,\\forall i\\ge 0\\tag{3}\n",
    "$$\n",
    "where\n",
    "\n",
    "- $X_t$: $(n\\times 1)$ vector of predetermined variable at time $t$;\n",
    "- $P_t$: $(m\\times 1)$ vector of  non-predetermined variable at time $t$;\n",
    "- $Z_t$: $(k\\times 1)$ vector of exogenous variables at time $t$;\n",
    "- $A$: $(n+m)\\times (n+m)$ matrix;\n",
    "- $\\gamma$: $(n+m)\\times k$ matrix\n",
    "- $\\Omega_t$: Information set at time $t$. $\\Omega_{t} \\supseteq \\Omega_{t-1}$. $\\Omega_t$ includes at least the current and past values of $X,P,Z$. It may include past and future values of exogenous variables.\n",
    "\n",
    "Equation [$(1)$](#model) restricts that all agents at a given time have the same information.\n",
    "\n",
    "Equation [$(2)$](#re) defines rational expectations. It excludes the possibnility that agents know the values of endogenous variables but not the values of exogenous variables (i.e., endogenous variables carry informations on exogenous variables).\n",
    "\n",
    "Condition [$(3)$](#nx) rules out exponential growth of the expectation of $Z_{t+i}$ at any time $t$.\n",
    "\n",
    "Remark: We also require similar conditions for $X$ and $P$. \n"
   ]
  },
  {
   "cell_type": "code",
   "execution_count": null,
   "id": "20652e5a-9623-4b81-90aa-3a6666d31b11",
   "metadata": {},
   "outputs": [],
   "source": []
  }
 ],
 "metadata": {
  "kernelspec": {
   "display_name": "Python 3 (ipykernel)",
   "language": "python",
   "name": "python3"
  },
  "language_info": {
   "codemirror_mode": {
    "name": "ipython",
    "version": 3
   },
   "file_extension": ".py",
   "mimetype": "text/x-python",
   "name": "python",
   "nbconvert_exporter": "python",
   "pygments_lexer": "ipython3",
   "version": "3.10.12"
  }
 },
 "nbformat": 4,
 "nbformat_minor": 5
}
